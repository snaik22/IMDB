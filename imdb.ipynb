{
 "cells": [
  {
   "cell_type": "markdown",
   "metadata": {},
   "source": [
    "# Analysis of Best and Worst 50 rated movies on IMDB"
   ]
  },
  {
   "cell_type": "markdown",
   "metadata": {},
   "source": [
    "<a id='top'></a>"
   ]
  },
  {
   "cell_type": "markdown",
   "metadata": {},
   "source": [
    "### Table of Contents\n",
    "1.<a href='#introduction'>Introduction</a>  \n",
    "2.<a href='#Lib'>Required Libraries</a>  \n",
    "3.<a href='#Scraping'>Web Scraping</a>  \n",
    "4.<a href='#DA'>Data Formatting and Data Analysis</a>  \n",
    "5.<a href='#visualization'>Visualization</a>  \n",
    "6.<a href='#Conc'>Conclusion</a>"
   ]
  },
  {
   "cell_type": "markdown",
   "metadata": {},
   "source": [
    "<a id='introduction'></a>"
   ]
  },
  {
   "cell_type": "markdown",
   "metadata": {},
   "source": [
    "### Introduction\n",
    "Considering myself to be a cinephilic or a movie buff, I really wanted to figure out what goes into making a movie great or dumb. My choice of watching a movie being filtered out through rating of the movie on IMDB. IMDB is a movie database website where any person can vote on any movie on a scale 1-10. And is a pretty good indicator of how good a movie is.\\n\", \"\\n\", \" Thus, browsing IMDB website, I came across a \\\"Top 250 Movies\\\" of all time list and similarly gathered that there would be a \\\"Worst 250 Movies\\\" of all time list. This list is usually sorted using the average movie rating and the number of ratings each movie. IMDB has it's own algorithm to decide the ranking supposing internet trolls decide to make fake accounts and try to increase the rating of a movie. This algorithm is classified.\\n\", \" \\n\", \" Therefore being a budding Data Scientist, I had to explore the corresponding dataset. For this project I took the top and worst 50 movies, considering the data related was pretty similar and corresponding data analysis was done on the list's features"
   ]
  },
  {
   "cell_type": "markdown",
   "metadata": {},
   "source": [
    "### <a href ='top'>__[Go back to Table of Content]__</a>"
   ]
  },
  {
   "cell_type": "markdown",
   "metadata": {},
   "source": [
    "<a id='Lib'></a>"
   ]
  },
  {
   "cell_type": "markdown",
   "metadata": {},
   "source": [
    "### Required Libraries"
   ]
  },
  {
   "cell_type": "markdown",
   "metadata": {},
   "source": [
    "Beatiful Soup, requests - Used to scrape website for information.  \n",
    "Pandas - Provides dataframe to store and analyze the data.  \n",
    "Matplotlib - Used to plot graphs.  \n",
    "Seaborn - Library built on matplotlib, for more advanced plot graphs.\n"
   ]
  },
  {
   "cell_type": "code",
   "execution_count": 1,
   "metadata": {
    "scrolled": true
   },
   "outputs": [],
   "source": [
    "from bs4 import BeautifulSoup\n",
    "import requests\n",
    "import pandas as pd\n",
    "import matplotlib.pyplot as plt\n",
    "import seaborn as sns"
   ]
  },
  {
   "cell_type": "markdown",
   "metadata": {},
   "source": [
    "<a id='Scraping'></a>"
   ]
  },
  {
   "cell_type": "markdown",
   "metadata": {},
   "source": [
    "### Web Scraping"
   ]
  },
  {
   "cell_type": "markdown",
   "metadata": {},
   "source": [
    "<a href = 'https://en.wikipedia.org/wiki/Web_scraping'>Web Scraping</a> is the process of extracting data, available only for looking and not for download, from a website. This saves us the tiresome task of manually saving data which might take hours to fill in a table.\\n\", \"\\n\", \"Requests is an HTTP library, written in Python. It has a basic GET method, which is used to get data from the website. In our project we use the 'text' method to get all the HTML code of the webpage in a text format.\\n\", \"\\n\", \"BeautifulSoup is a python library which analyses the HTML parsetree. We use BeautifulSoup's 'select' method to select the specific data linked with that HTML tag. Then we scrap details of the movie title, year released, average rating, number of votes, running time, certificate, genre."
   ]
  },
  {
   "cell_type": "code",
   "execution_count": 2,
   "metadata": {
    "scrolled": true
   },
   "outputs": [],
   "source": [
    "# IMDB top and bottom 50 URL\n",
    "responseTopFifty = requests.get('https://www.imdb.com/search/title/?groups=top_250&sort=user_rating,desc')\n",
    "responseBotFifty = requests.get('https://www.imdb.com/search/title/?groups=bottom_250&lists=!watchlist&sort=user_rating,asc')\n",
    "soupTopFifty = BeautifulSoup(responseTopFifty.text,\"html.parser\")\n",
    "soupBottomFifty = BeautifulSoup(responseBotFifty.text,\"html.parser\")"
   ]
  },
  {
   "cell_type": "code",
   "execution_count": 3,
   "metadata": {},
   "outputs": [],
   "source": [
    "# Here we are individually collecting the features of each movie.\n",
    "movies = [a.get_text() for a in soupTopFifty.select('h3.lister-item-header a')]\n",
    "movies = movies + [a.get_text() for a in soupBottomFifty.select('h3.lister-item-header a')]\n",
    "year_reqTF = soupTopFifty.select('h3.lister-item-header span')\n",
    "year = []\n",
    "\n",
    "\n",
    "for index in range(50):\n",
    "    year.append(year_reqTF[index *2 + 1].get_text().replace('(','').replace(')',''))\n",
    "    \n",
    "'''Sample all the odd indexed values which contain the year because the even indexed values contain string for a \n",
    "different value'''\n",
    "\n",
    "year_reqBF = soupBottomFifty.select('h3.lister-item-header span')\n",
    "\n",
    "\n",
    "for index in range(50):\n",
    "    year.append(year_reqBF[index *2 + 1].get_text().replace('(','').replace(')',''))\n",
    "    \n",
    "'''Sample all the odd indexed values which contain the year because the even indexed values contain string \n",
    "for a different value'''\n",
    "    \n",
    "rating = [a.get_text() for a in soupTopFifty.select('div.ratings-bar strong')]\n",
    "rating = rating + [a.get_text() for a in soupBottomFifty.select('div.ratings-bar strong')]\n",
    "\n",
    "votes = [a.attrs.get('data-value').replace(',','') for a in soupTopFifty.select('p.sort-num_votes-visible span[name=nv]')]\n",
    "votes = votes + [a.attrs.get('data-value').replace(',','') for a in soupBottomFifty.select('p.sort-num_votes-visible span[name=nv]')]\n",
    "\n",
    "runningTime = [a.get_text().replace(' min','') for a in soupTopFifty.select('span.runtime')]\n",
    "runningTime = runningTime + [a.get_text().replace(' min','') for a in soupBottomFifty.select('span.runtime')]\n",
    "genre = [a.get_text().replace(' ','').split(',') for a in soupTopFifty.select('span.genre')]\n",
    "genre = genre + [a.get_text().replace(' ','').split(',') for a in soupBottomFifty.select('span.genre')]"
   ]
  },
  {
   "cell_type": "markdown",
   "metadata": {},
   "source": [
    "<a id='DA'></a>"
   ]
  },
  {
   "cell_type": "markdown",
   "metadata": {},
   "source": [
    "### Data Formating and Data Analysis\\n\",\n",
    "After scraping the webpage of necessary data, we need to store it in a format which is easy to analyse and operate on. This will be done in the next few steps.\n",
    "   First we take the feature data which is stored in separate lists, one list for each feature. Then create a dictionary where the keys of dictionary are features and values are respective feature values. Then this python dictionary is converted to a <a href = 'https://pandas.pydata.org/pandas-docs/stable/reference/api/pandas.DataFrame.html'>Pandas dataframe</a>. We use Pandas mainly because it allows various data manipulation operations and it is also easy to visualise a dataframe for analysis.\n",
    "Using the 'head' function of pandas we notice that each movie is described under more than one Genre. We solve this problem by randomly selecting a genre for each movie under the list of genres the movie is decribed. This is done using the 'pop' function of the list. Which pops the top most item from the list.\n",
    "  We create a column that describes whether the movies is in the best 50 or worst 50 list.\n",
    "\n",
    "### <a href ='top'>__[Go back to Table of Content]__</a>"
   ]
  },
  {
   "cell_type": "code",
   "execution_count": 4,
   "metadata": {},
   "outputs": [],
   "source": [
    "# Converting all the features we have into a dictionary."
   ]
  },
  {
   "cell_type": "code",
   "execution_count": 5,
   "metadata": {
    "scrolled": true
   },
   "outputs": [],
   "source": [
    "imdb = []\n",
    "for index in range(100):\n",
    "    data = {\"Movie\": movies[index],\n",
    "            \"Year\": year[index],\n",
    "            \"Rating\": rating[index],\n",
    "            \"Vote\": votes[index],\n",
    "            \"RunningTime\" : runningTime[index],\n",
    "            \"Genre\" : genre[index]}\n",
    "    imdb.append(data)"
   ]
  },
  {
   "cell_type": "code",
   "execution_count": 6,
   "metadata": {},
   "outputs": [
    {
     "data": {
      "text/html": [
       "<div>\n",
       "<style scoped>\n",
       "    .dataframe tbody tr th:only-of-type {\n",
       "        vertical-align: middle;\n",
       "    }\n",
       "\n",
       "    .dataframe tbody tr th {\n",
       "        vertical-align: top;\n",
       "    }\n",
       "\n",
       "    .dataframe thead th {\n",
       "        text-align: right;\n",
       "    }\n",
       "</style>\n",
       "<table border=\"1\" class=\"dataframe\">\n",
       "  <thead>\n",
       "    <tr style=\"text-align: right;\">\n",
       "      <th></th>\n",
       "      <th>Genre</th>\n",
       "      <th>Movie</th>\n",
       "      <th>Rating</th>\n",
       "      <th>RunningTime</th>\n",
       "      <th>Vote</th>\n",
       "      <th>Year</th>\n",
       "    </tr>\n",
       "  </thead>\n",
       "  <tbody>\n",
       "    <tr>\n",
       "      <th>0</th>\n",
       "      <td>Drama</td>\n",
       "      <td>The Shawshank Redemption</td>\n",
       "      <td>9.3</td>\n",
       "      <td>142</td>\n",
       "      <td>2169303</td>\n",
       "      <td>1994</td>\n",
       "    </tr>\n",
       "    <tr>\n",
       "      <th>1</th>\n",
       "      <td>Crime</td>\n",
       "      <td>The Godfather</td>\n",
       "      <td>9.2</td>\n",
       "      <td>175</td>\n",
       "      <td>28341469</td>\n",
       "      <td>1972</td>\n",
       "    </tr>\n",
       "    <tr>\n",
       "      <th>2</th>\n",
       "      <td>Action</td>\n",
       "      <td>The Dark Knight</td>\n",
       "      <td>9.0</td>\n",
       "      <td>152</td>\n",
       "      <td>1494007</td>\n",
       "      <td>2008</td>\n",
       "    </tr>\n",
       "    <tr>\n",
       "      <th>3</th>\n",
       "      <td>Crime</td>\n",
       "      <td>The Godfather: Part II</td>\n",
       "      <td>9.0</td>\n",
       "      <td>202</td>\n",
       "      <td>134966411</td>\n",
       "      <td>1974</td>\n",
       "    </tr>\n",
       "    <tr>\n",
       "      <th>4</th>\n",
       "      <td>Adventure</td>\n",
       "      <td>The Lord of the Rings: The Return of the King</td>\n",
       "      <td>8.9</td>\n",
       "      <td>201</td>\n",
       "      <td>2153251</td>\n",
       "      <td>2003</td>\n",
       "    </tr>\n",
       "  </tbody>\n",
       "</table>\n",
       "</div>"
      ],
      "text/plain": [
       "       Genre                                          Movie Rating  \\\n",
       "0      Drama                       The Shawshank Redemption    9.3   \n",
       "1      Crime                                  The Godfather    9.2   \n",
       "2     Action                                The Dark Knight    9.0   \n",
       "3      Crime                         The Godfather: Part II    9.0   \n",
       "4  Adventure  The Lord of the Rings: The Return of the King    8.9   \n",
       "\n",
       "   RunningTime       Vote  Year  \n",
       "0          142    2169303  1994  \n",
       "1          175   28341469  1972  \n",
       "2          152    1494007  2008  \n",
       "3          202  134966411  1974  \n",
       "4          201    2153251  2003  "
      ]
     },
     "execution_count": 6,
     "metadata": {},
     "output_type": "execute_result"
    }
   ],
   "source": [
    "# Converting from dictionary to pandas dataframe\n",
    "imdb = pd.DataFrame.from_dict(imdb)\n",
    "imdb['Genre'] = imdb['Genre'].apply(lambda x: x[0].replace('\\n','')) # Select a Genre\n",
    "imdb['RunningTime'] = imdb['RunningTime'].apply(lambda x: int(x))\n",
    "imdb.head()"
   ]
  },
  {
   "cell_type": "code",
   "execution_count": 7,
   "metadata": {},
   "outputs": [
    {
     "data": {
      "text/html": [
       "<div>\n",
       "<style scoped>\n",
       "    .dataframe tbody tr th:only-of-type {\n",
       "        vertical-align: middle;\n",
       "    }\n",
       "\n",
       "    .dataframe tbody tr th {\n",
       "        vertical-align: top;\n",
       "    }\n",
       "\n",
       "    .dataframe thead th {\n",
       "        text-align: right;\n",
       "    }\n",
       "</style>\n",
       "<table border=\"1\" class=\"dataframe\">\n",
       "  <thead>\n",
       "    <tr style=\"text-align: right;\">\n",
       "      <th></th>\n",
       "      <th>Genre</th>\n",
       "      <th>Movie</th>\n",
       "      <th>Rating</th>\n",
       "      <th>RunningTime</th>\n",
       "      <th>Vote</th>\n",
       "      <th>Year</th>\n",
       "      <th>Category</th>\n",
       "    </tr>\n",
       "  </thead>\n",
       "  <tbody>\n",
       "    <tr>\n",
       "      <th>0</th>\n",
       "      <td>Drama</td>\n",
       "      <td>The Shawshank Redemption</td>\n",
       "      <td>9.3</td>\n",
       "      <td>142</td>\n",
       "      <td>2169303</td>\n",
       "      <td>1994</td>\n",
       "      <td>Top</td>\n",
       "    </tr>\n",
       "    <tr>\n",
       "      <th>1</th>\n",
       "      <td>Crime</td>\n",
       "      <td>The Godfather</td>\n",
       "      <td>9.2</td>\n",
       "      <td>175</td>\n",
       "      <td>28341469</td>\n",
       "      <td>1972</td>\n",
       "      <td>Top</td>\n",
       "    </tr>\n",
       "    <tr>\n",
       "      <th>2</th>\n",
       "      <td>Action</td>\n",
       "      <td>The Dark Knight</td>\n",
       "      <td>9.0</td>\n",
       "      <td>152</td>\n",
       "      <td>1494007</td>\n",
       "      <td>2008</td>\n",
       "      <td>Top</td>\n",
       "    </tr>\n",
       "    <tr>\n",
       "      <th>3</th>\n",
       "      <td>Crime</td>\n",
       "      <td>The Godfather: Part II</td>\n",
       "      <td>9.0</td>\n",
       "      <td>202</td>\n",
       "      <td>134966411</td>\n",
       "      <td>1974</td>\n",
       "      <td>Top</td>\n",
       "    </tr>\n",
       "    <tr>\n",
       "      <th>4</th>\n",
       "      <td>Adventure</td>\n",
       "      <td>The Lord of the Rings: The Return of the King</td>\n",
       "      <td>8.9</td>\n",
       "      <td>201</td>\n",
       "      <td>2153251</td>\n",
       "      <td>2003</td>\n",
       "      <td>Top</td>\n",
       "    </tr>\n",
       "  </tbody>\n",
       "</table>\n",
       "</div>"
      ],
      "text/plain": [
       "       Genre                                          Movie Rating  \\\n",
       "0      Drama                       The Shawshank Redemption    9.3   \n",
       "1      Crime                                  The Godfather    9.2   \n",
       "2     Action                                The Dark Knight    9.0   \n",
       "3      Crime                         The Godfather: Part II    9.0   \n",
       "4  Adventure  The Lord of the Rings: The Return of the King    8.9   \n",
       "\n",
       "   RunningTime       Vote  Year Category  \n",
       "0          142    2169303  1994      Top  \n",
       "1          175   28341469  1972      Top  \n",
       "2          152    1494007  2008      Top  \n",
       "3          202  134966411  1974      Top  \n",
       "4          201    2153251  2003      Top  "
      ]
     },
     "execution_count": 7,
     "metadata": {},
     "output_type": "execute_result"
    }
   ],
   "source": [
    "# Categorize the movies into top and bottom fifty.\n",
    "imdb['Category'] = imdb['Rating'].apply(lambda row: 'Top' if float(row) > 5 else 'Bottom')\n",
    "imdb.head()"
   ]
  },
  {
   "cell_type": "markdown",
   "metadata": {},
   "source": [
    "### Visualisation\n",
    "<a href = 'https://en.wikipedia.org/wiki/Data_visualization'>Data Visualization</a> is presentation of data in a pictorial form such that we can discover hidden patterns in the data. Here we try to compare each feature of the dataframe for both the categories and we find very contrasting views about each category.\n",
    "\n",
    "   ### <a href ='top'>__[Go back to Table of Content]__</a>"
   ]
  },
  {
   "cell_type": "code",
   "execution_count": 8,
   "metadata": {},
   "outputs": [
    {
     "data": {
      "text/plain": [
       "[Text(0, 0.5, 'Count'),\n",
       " Text(0.5, 0, 'Certificate'),\n",
       " Text(0.5, 1.0, 'Certificate by top and bottom 50 movies')]"
      ]
     },
     "execution_count": 8,
     "metadata": {},
     "output_type": "execute_result"
    },
    {
     "data": {
      "image/png": "[encoded data removed]",
      "text/plain": [
       "<Figure size 720x504 with 1 Axes>"
      ]
     },
     "metadata": {
      "needs_background": "light"
     },
     "output_type": "display_data"
    }
   ],
   "source": [
    "fig, axes = plt.subplots(figsize = (10,7))\n",
    "ax = sns.countplot(x = 'Genre', hue ='Category', data = imdb)\n",
    "ax.set(title = 'Certificate by top and bottom 50 movies',xlabel = 'Certificate', ylabel='Count')"
   ]
  },
  {
   "cell_type": "markdown",
   "metadata": {},
   "source": [
    "We can also see that the movies described under 'Biography' genre are likely to be 100% liked by people. People also seem to like 'Drama' and 'Crime'. The same cannot be said about other genres like 'Comedy' and 'Horror', with most of the worst movies described under these. The reviews for 'Action' and 'Adventure' genres seems to be mixed. "
   ]
  },
  {
   "cell_type": "code",
   "execution_count": 9,
   "metadata": {
    "scrolled": false
   },
   "outputs": [
    {
     "data": {
      "text/plain": [
       "<matplotlib.axes._subplots.AxesSubplot at 0x12bb5d550>"
      ]
     },
     "execution_count": 9,
     "metadata": {},
     "output_type": "execute_result"
    },
    {
     "data": {
      "image/png": "[encoded data removed]",
      "text/plain": [
       "<Figure size 720x504 with 1 Axes>"
      ]
     },
     "metadata": {
      "needs_background": "light"
     },
     "output_type": "display_data"
    }
   ],
   "source": [
    "fig, axes = plt.subplots(figsize = (10,7))\n",
    "sns.lineplot(data=imdb, x=imdb.index, y='RunningTime', hue='Category')"
   ]
  },
  {
   "cell_type": "markdown",
   "metadata": {},
   "source": [
    "We can notice that most of the bottom 50 movies have comparitively less running time\n"
   ]
  },
  {
   "cell_type": "markdown",
   "metadata": {},
   "source": [
    "In the above graph, we can see usually the worst rated movies have running time less than 100 minutes. So the key to making a better movie also lies in having more than 100 minutes of time.\""
   ]
  },
  {
   "cell_type": "markdown",
   "metadata": {},
   "source": [
    "Thus, we can conclude from this project that most of the features related in the IMDb site are relevant to figure out the quality of a movie. Of course just getting these features does not mean the movie you make could be in the top 50 movies list but it could at least decrease the probabilities of it being in the worst 50.\n",
    "    \"<a href ='top'>[Go back to Table of Content]</a>\""
   ]
  },
  {
   "cell_type": "code",
   "execution_count": null,
   "metadata": {},
   "outputs": [],
   "source": []
  }
 ],
 "metadata": {
  "kernelspec": {
   "display_name": "Python 3",
   "language": "python",
   "name": "python3"
  },
  "language_info": {
   "codemirror_mode": {
    "name": "ipython",
    "version": 3
   },
   "file_extension": ".py",
   "mimetype": "text/x-python",
   "name": "python",
   "nbconvert_exporter": "python",
   "pygments_lexer": "ipython3",
   "version": "3.6.5"
  }
 },
 "nbformat": 4,
 "nbformat_minor": 2
}
